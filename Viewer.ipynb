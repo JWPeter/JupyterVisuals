{
 "cells": [
  {
   "cell_type": "code",
   "execution_count": 1,
   "id": "8643d8bd",
   "metadata": {},
   "outputs": [],
   "source": [
    "### module imports\n",
    "from utils import ImageViewers as iv\n",
    "import SimpleITK as sitk\n"
   ]
  },
  {
   "cell_type": "code",
   "execution_count": null,
   "id": "e8278dc1",
   "metadata": {},
   "outputs": [],
   "source": [
    "### select data folder (only nii.gz files are considered)\n",
    "input_folder=\"data/ATL08/\""
   ]
  },
  {
   "cell_type": "code",
   "execution_count": 5,
   "id": "40fbdc94",
   "metadata": {},
   "outputs": [
    {
     "data": {
      "application/vnd.jupyter.widget-view+json": {
       "model_id": "831f4c39db0b4dee86aa123fa45f5b15",
       "version_major": 2,
       "version_minor": 0
      },
      "text/plain": [
       "interactive(children=(Dropdown(description='Select image:', layout=Layout(width='50%'), options=(('pre_op', 0)…"
      ]
     },
     "metadata": {},
     "output_type": "display_data"
    }
   ],
   "source": [
    "iv.myshow_selector(input_folder, always_shown=[\"slice_aligned_post_op.nii.gz\", \"reconstructed_volume.nii.gz\"], fig_size_multiplier=4)"
   ]
  },
  {
   "cell_type": "code",
   "execution_count": null,
   "id": "4e6b7223",
   "metadata": {},
   "outputs": [
    {
     "data": {
      "application/vnd.jupyter.widget-view+json": {
       "model_id": "e0d3fc3a3e414a888cb82848ea88b005",
       "version_major": 2,
       "version_minor": 0
      },
      "text/plain": [
       "interactive(children=(IntSlider(value=51, description='z', max=103), Output()), _dom_classes=('widget-interact…"
      ]
     },
     "metadata": {},
     "output_type": "display_data"
    }
   ],
   "source": [
    "###View images\n",
    "iv.myshow_composition([image_pre_op, image_post_op, image_histo], fig_size_multiplier=3)"
   ]
  }
 ],
 "metadata": {
  "kernelspec": {
   "display_name": "viewer",
   "language": "python",
   "name": "python3"
  },
  "language_info": {
   "codemirror_mode": {
    "name": "ipython",
    "version": 3
   },
   "file_extension": ".py",
   "mimetype": "text/x-python",
   "name": "python",
   "nbconvert_exporter": "python",
   "pygments_lexer": "ipython3",
   "version": "3.11.13"
  }
 },
 "nbformat": 4,
 "nbformat_minor": 5
}
