{
 "cells": [
  {
   "cell_type": "code",
   "execution_count": null,
   "id": "8643d8bd",
   "metadata": {},
   "outputs": [],
   "source": [
    "### module imports\n",
    "from utils import ImageViewers as iv\n",
    "import SimpleITK as sitk\n"
   ]
  },
  {
   "cell_type": "code",
   "execution_count": null,
   "id": "e8278dc1",
   "metadata": {},
   "outputs": [],
   "source": [
    "### load images with SimpleITK\n",
    "input_folder=\"data/ATL07/\"\n",
    "image_pre_op = sitk.ReadImage(input_folder + \"slice_aligned_pre_op.nii\")\n",
    "image_post_op = sitk.ReadImage(input_folder + \"slice_aligned_post_op.nii\")\n",
    "image_histo = sitk.ReadImage(input_folder + \"reconstructed_volume.nii\")"
   ]
  },
  {
   "cell_type": "code",
   "execution_count": null,
   "id": "4e6b7223",
   "metadata": {},
   "outputs": [
    {
     "data": {
      "application/vnd.jupyter.widget-view+json": {
       "model_id": "6c73e3f5aa2f4a94b65bc73b10aa0217",
       "version_major": 2,
       "version_minor": 0
      },
      "text/plain": [
       "interactive(children=(IntSlider(value=199, description='z', max=399), Output()), _dom_classes=('widget-interac…"
      ]
     },
     "metadata": {},
     "output_type": "display_data"
    }
   ],
   "source": [
    "###View images\n",
    "iv.myshow_composition([image_pre_op, image_post_op, image_histo], fig_size_multiplier=3)"
   ]
  }
 ],
 "metadata": {
  "kernelspec": {
   "display_name": "viewer",
   "language": "python",
   "name": "python3"
  },
  "language_info": {
   "codemirror_mode": {
    "name": "ipython",
    "version": 3
   },
   "file_extension": ".py",
   "mimetype": "text/x-python",
   "name": "python",
   "nbconvert_exporter": "python",
   "pygments_lexer": "ipython3",
   "version": "3.11.13"
  }
 },
 "nbformat": 4,
 "nbformat_minor": 5
}
